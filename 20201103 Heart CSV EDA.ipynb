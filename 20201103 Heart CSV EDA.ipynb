{
 "cells": [
  {
   "cell_type": "markdown",
   "metadata": {},
   "source": [
    "Data from [Kaggle](https://www.kaggle.com/ronitf/heart-disease-uci?select=heart.csv)"
   ]
  },
  {
   "cell_type": "code",
   "execution_count": 1,
   "metadata": {},
   "outputs": [],
   "source": [
    "from datetime import datetime\n",
    "import time\n",
    "import humanize\n",
    "from IPython.core.display import display, HTML\n",
    "import pandas as pd\n",
    "import sidetable\n",
    "from pandas_profiling import ProfileReport"
   ]
  },
  {
   "cell_type": "code",
   "execution_count": 2,
   "metadata": {},
   "outputs": [],
   "source": [
    "start_time = time.monotonic()"
   ]
  },
  {
   "cell_type": "code",
   "execution_count": 3,
   "metadata": {},
   "outputs": [
    {
     "data": {
      "text/html": [
       "<div>\n",
       "<style scoped>\n",
       "    .dataframe tbody tr th:only-of-type {\n",
       "        vertical-align: middle;\n",
       "    }\n",
       "\n",
       "    .dataframe tbody tr th {\n",
       "        vertical-align: top;\n",
       "    }\n",
       "\n",
       "    .dataframe thead th {\n",
       "        text-align: right;\n",
       "    }\n",
       "</style>\n",
       "<table border=\"1\" class=\"dataframe\">\n",
       "  <thead>\n",
       "    <tr style=\"text-align: right;\">\n",
       "      <th></th>\n",
       "      <th>age</th>\n",
       "      <th>sex</th>\n",
       "      <th>cp</th>\n",
       "      <th>trestbps</th>\n",
       "      <th>chol</th>\n",
       "      <th>fbs</th>\n",
       "      <th>restecg</th>\n",
       "      <th>thalach</th>\n",
       "      <th>exang</th>\n",
       "      <th>oldpeak</th>\n",
       "      <th>slope</th>\n",
       "      <th>ca</th>\n",
       "      <th>thal</th>\n",
       "      <th>target</th>\n",
       "    </tr>\n",
       "  </thead>\n",
       "  <tbody>\n",
       "    <tr>\n",
       "      <th>0</th>\n",
       "      <td>63</td>\n",
       "      <td>1</td>\n",
       "      <td>3</td>\n",
       "      <td>145</td>\n",
       "      <td>233</td>\n",
       "      <td>1</td>\n",
       "      <td>0</td>\n",
       "      <td>150</td>\n",
       "      <td>0</td>\n",
       "      <td>2.3</td>\n",
       "      <td>0</td>\n",
       "      <td>0</td>\n",
       "      <td>1</td>\n",
       "      <td>1</td>\n",
       "    </tr>\n",
       "    <tr>\n",
       "      <th>1</th>\n",
       "      <td>37</td>\n",
       "      <td>1</td>\n",
       "      <td>2</td>\n",
       "      <td>130</td>\n",
       "      <td>250</td>\n",
       "      <td>0</td>\n",
       "      <td>1</td>\n",
       "      <td>187</td>\n",
       "      <td>0</td>\n",
       "      <td>3.5</td>\n",
       "      <td>0</td>\n",
       "      <td>0</td>\n",
       "      <td>2</td>\n",
       "      <td>1</td>\n",
       "    </tr>\n",
       "    <tr>\n",
       "      <th>2</th>\n",
       "      <td>41</td>\n",
       "      <td>0</td>\n",
       "      <td>1</td>\n",
       "      <td>130</td>\n",
       "      <td>204</td>\n",
       "      <td>0</td>\n",
       "      <td>0</td>\n",
       "      <td>172</td>\n",
       "      <td>0</td>\n",
       "      <td>1.4</td>\n",
       "      <td>2</td>\n",
       "      <td>0</td>\n",
       "      <td>2</td>\n",
       "      <td>1</td>\n",
       "    </tr>\n",
       "    <tr>\n",
       "      <th>3</th>\n",
       "      <td>56</td>\n",
       "      <td>1</td>\n",
       "      <td>1</td>\n",
       "      <td>120</td>\n",
       "      <td>236</td>\n",
       "      <td>0</td>\n",
       "      <td>1</td>\n",
       "      <td>178</td>\n",
       "      <td>0</td>\n",
       "      <td>0.8</td>\n",
       "      <td>2</td>\n",
       "      <td>0</td>\n",
       "      <td>2</td>\n",
       "      <td>1</td>\n",
       "    </tr>\n",
       "    <tr>\n",
       "      <th>4</th>\n",
       "      <td>57</td>\n",
       "      <td>0</td>\n",
       "      <td>0</td>\n",
       "      <td>120</td>\n",
       "      <td>354</td>\n",
       "      <td>0</td>\n",
       "      <td>1</td>\n",
       "      <td>163</td>\n",
       "      <td>1</td>\n",
       "      <td>0.6</td>\n",
       "      <td>2</td>\n",
       "      <td>0</td>\n",
       "      <td>2</td>\n",
       "      <td>1</td>\n",
       "    </tr>\n",
       "  </tbody>\n",
       "</table>\n",
       "</div>"
      ],
      "text/plain": [
       "   age  sex  cp  trestbps  chol  fbs  restecg  thalach  exang  oldpeak  slope  \\\n",
       "0   63    1   3       145   233    1        0      150      0      2.3      0   \n",
       "1   37    1   2       130   250    0        1      187      0      3.5      0   \n",
       "2   41    0   1       130   204    0        0      172      0      1.4      2   \n",
       "3   56    1   1       120   236    0        1      178      0      0.8      2   \n",
       "4   57    0   0       120   354    0        1      163      1      0.6      2   \n",
       "\n",
       "   ca  thal  target  \n",
       "0   0     1       1  \n",
       "1   0     2       1  \n",
       "2   0     2       1  \n",
       "3   0     2       1  \n",
       "4   0     2       1  "
      ]
     },
     "execution_count": 3,
     "metadata": {},
     "output_type": "execute_result"
    }
   ],
   "source": [
    "df = pd.read_csv('heart.csv')\n",
    "df.head()"
   ]
  },
  {
   "cell_type": "code",
   "execution_count": 4,
   "metadata": {},
   "outputs": [
    {
     "name": "stdout",
     "output_type": "stream",
     "text": [
      "age\n",
      "    age  count   percent  cumulative_count  cumulative_percent\n",
      "0    29      1  0.330033                 1            0.330033\n",
      "1    34      2  0.660066                 3            0.990099\n",
      "2    35      4  1.320132                 7            2.310231\n",
      "3    37      2  0.660066                 9            2.970297\n",
      "4    38      3  0.990099                12            3.960396\n",
      "5    39      4  1.320132                16            5.280528\n",
      "6    40      3  0.990099                19            6.270627\n",
      "7    41     10  3.300330                29            9.570957\n",
      "8    42      8  2.640264                37           12.211221\n",
      "9    43      8  2.640264                45           14.851485\n",
      "10   44     11  3.630363                56           18.481848\n",
      "11   45      8  2.640264                64           21.122112\n",
      "12   46      7  2.310231                71           23.432343\n",
      "13   47      5  1.650165                76           25.082508\n",
      "14   48      7  2.310231                83           27.392739\n",
      "15   49      5  1.650165                88           29.042904\n",
      "16   50      7  2.310231                95           31.353135\n",
      "17   51     12  3.960396               107           35.313531\n",
      "18   52     13  4.290429               120           39.603960\n",
      "19   53      8  2.640264               128           42.244224\n",
      "20   54     16  5.280528               144           47.524752\n",
      "21   55      8  2.640264               152           50.165017\n",
      "22   56     11  3.630363               163           53.795380\n",
      "23   57     17  5.610561               180           59.405941\n",
      "24   58     19  6.270627               199           65.676568\n",
      "25   59     14  4.620462               213           70.297030\n",
      "26   60     11  3.630363               224           73.927393\n",
      "27   61      8  2.640264               232           76.567657\n",
      "28   62     11  3.630363               243           80.198020\n",
      "29   63      9  2.970297               252           83.168317\n",
      "30   64     10  3.300330               262           86.468647\n",
      "31   65      8  2.640264               270           89.108911\n",
      "32   66      7  2.310231               277           91.419142\n",
      "33   67      9  2.970297               286           94.389439\n",
      "34   68      4  1.320132               290           95.709571\n",
      "35   69      3  0.990099               293           96.699670\n",
      "36   70      4  1.320132               297           98.019802\n",
      "37   71      3  0.990099               300           99.009901\n",
      "38   74      1  0.330033               301           99.339934\n",
      "39   76      1  0.330033               302           99.669967\n",
      "40   77      1  0.330033               303          100.000000\n",
      "sex\n",
      "   sex  count    percent  cumulative_count  cumulative_percent\n",
      "0    0     96  31.683168                96           31.683168\n",
      "1    1    207  68.316832               303          100.000000\n",
      "cp\n",
      "   cp  count    percent  cumulative_count  cumulative_percent\n",
      "0   0    143  47.194719               143           47.194719\n",
      "1   1     50  16.501650               193           63.696370\n",
      "2   2     87  28.712871               280           92.409241\n",
      "3   3     23   7.590759               303          100.000000\n",
      "trestbps\n",
      "    trestbps  count    percent  cumulative_count  cumulative_percent\n",
      "0         94      2   0.660066                 2            0.660066\n",
      "1        100      4   1.320132                 6            1.980198\n",
      "2        101      1   0.330033                 7            2.310231\n",
      "3        102      2   0.660066                 9            2.970297\n",
      "4        104      1   0.330033                10            3.300330\n",
      "5        105      3   0.990099                13            4.290429\n",
      "6        106      1   0.330033                14            4.620462\n",
      "7        108      6   1.980198                20            6.600660\n",
      "8        110     19   6.270627                39           12.871287\n",
      "9        112      9   2.970297                48           15.841584\n",
      "10       114      1   0.330033                49           16.171617\n",
      "11       115      3   0.990099                52           17.161716\n",
      "12       117      1   0.330033                53           17.491749\n",
      "13       118      7   2.310231                60           19.801980\n",
      "14       120     37  12.211221                97           32.013201\n",
      "15       122      4   1.320132               101           33.333333\n",
      "16       123      1   0.330033               102           33.663366\n",
      "17       124      6   1.980198               108           35.643564\n",
      "18       125     11   3.630363               119           39.273927\n",
      "19       126      3   0.990099               122           40.264026\n",
      "20       128     12   3.960396               134           44.224422\n",
      "21       129      1   0.330033               135           44.554455\n",
      "22       130     36  11.881188               171           56.435644\n",
      "23       132      8   2.640264               179           59.075908\n",
      "24       134      5   1.650165               184           60.726073\n",
      "25       135      6   1.980198               190           62.706271\n",
      "26       136      3   0.990099               193           63.696370\n",
      "27       138     13   4.290429               206           67.986799\n",
      "28       140     32  10.561056               238           78.547855\n",
      "29       142      3   0.990099               241           79.537954\n",
      "30       144      2   0.660066               243           80.198020\n",
      "31       145      5   1.650165               248           81.848185\n",
      "32       146      2   0.660066               250           82.508251\n",
      "33       148      2   0.660066               252           83.168317\n",
      "34       150     17   5.610561               269           88.778878\n",
      "35       152      5   1.650165               274           90.429043\n",
      "36       154      1   0.330033               275           90.759076\n",
      "37       155      1   0.330033               276           91.089109\n",
      "38       156      1   0.330033               277           91.419142\n",
      "39       160     11   3.630363               288           95.049505\n",
      "40       164      1   0.330033               289           95.379538\n",
      "41       165      1   0.330033               290           95.709571\n",
      "42       170      4   1.320132               294           97.029703\n",
      "43       172      1   0.330033               295           97.359736\n",
      "44       174      1   0.330033               296           97.689769\n",
      "45       178      2   0.660066               298           98.349835\n",
      "46       180      3   0.990099               301           99.339934\n",
      "47       192      1   0.330033               302           99.669967\n",
      "48       200      1   0.330033               303          100.000000\n",
      "chol\n",
      "     chol  count   percent  cumulative_count  cumulative_percent\n",
      "0     126      1  0.330033                 1            0.330033\n",
      "1     131      1  0.330033                 2            0.660066\n",
      "2     141      1  0.330033                 3            0.990099\n",
      "3     149      2  0.660066                 5            1.650165\n",
      "4     157      1  0.330033                 6            1.980198\n",
      "..    ...    ...       ...               ...                 ...\n",
      "147   394      1  0.330033               299           98.679868\n",
      "148   407      1  0.330033               300           99.009901\n",
      "149   409      1  0.330033               301           99.339934\n",
      "150   417      1  0.330033               302           99.669967\n",
      "151   564      1  0.330033               303          100.000000\n",
      "\n",
      "[152 rows x 5 columns]\n",
      "fbs\n",
      "   fbs  count    percent  cumulative_count  cumulative_percent\n",
      "0    0    258  85.148515               258           85.148515\n",
      "1    1     45  14.851485               303          100.000000\n",
      "restecg\n",
      "   restecg  count    percent  cumulative_count  cumulative_percent\n",
      "0        0    147  48.514851               147           48.514851\n",
      "1        1    152  50.165017               299           98.679868\n",
      "2        2      4   1.320132               303          100.000000\n",
      "thalach\n",
      "    thalach  count   percent  cumulative_count  cumulative_percent\n",
      "0        71      1  0.330033                 1            0.330033\n",
      "1        88      1  0.330033                 2            0.660066\n",
      "2        90      1  0.330033                 3            0.990099\n",
      "3        95      1  0.330033                 4            1.320132\n",
      "4        96      2  0.660066                 6            1.980198\n",
      "..      ...    ...       ...               ...                 ...\n",
      "86      190      1  0.330033               299           98.679868\n",
      "87      192      1  0.330033               300           99.009901\n",
      "88      194      1  0.330033               301           99.339934\n",
      "89      195      1  0.330033               302           99.669967\n",
      "90      202      1  0.330033               303          100.000000\n",
      "\n",
      "[91 rows x 5 columns]\n",
      "exang\n",
      "   exang  count    percent  cumulative_count  cumulative_percent\n",
      "0      0    204  67.326733               204           67.326733\n",
      "1      1     99  32.673267               303          100.000000\n",
      "oldpeak\n",
      "    oldpeak  count    percent  cumulative_count  cumulative_percent\n",
      "0       0.0     99  32.673267                99           32.673267\n",
      "1       0.1      7   2.310231               106           34.983498\n",
      "2       0.2     12   3.960396               118           38.943894\n",
      "3       0.3      3   0.990099               121           39.933993\n",
      "4       0.4      9   2.970297               130           42.904290\n",
      "5       0.5      5   1.650165               135           44.554455\n",
      "6       0.6     14   4.620462               149           49.174917\n",
      "7       0.7      1   0.330033               150           49.504950\n",
      "8       0.8     13   4.290429               163           53.795380\n",
      "9       0.9      3   0.990099               166           54.785479\n",
      "10      1.0     14   4.620462               180           59.405941\n",
      "11      1.1      2   0.660066               182           60.066007\n",
      "12      1.2     17   5.610561               199           65.676568\n",
      "13      1.3      1   0.330033               200           66.006601\n",
      "14      1.4     13   4.290429               213           70.297030\n",
      "15      1.5      5   1.650165               218           71.947195\n",
      "16      1.6     11   3.630363               229           75.577558\n",
      "17      1.8     10   3.300330               239           78.877888\n",
      "18      1.9      5   1.650165               244           80.528053\n",
      "19      2.0      9   2.970297               253           83.498350\n",
      "20      2.1      1   0.330033               254           83.828383\n",
      "21      2.2      4   1.320132               258           85.148515\n",
      "22      2.3      2   0.660066               260           85.808581\n",
      "23      2.4      3   0.990099               263           86.798680\n",
      "24      2.5      2   0.660066               265           87.458746\n",
      "25      2.6      6   1.980198               271           89.438944\n",
      "26      2.8      6   1.980198               277           91.419142\n",
      "27      2.9      1   0.330033               278           91.749175\n",
      "28      3.0      5   1.650165               283           93.399340\n",
      "29      3.1      1   0.330033               284           93.729373\n",
      "30      3.2      2   0.660066               286           94.389439\n",
      "31      3.4      3   0.990099               289           95.379538\n",
      "32      3.5      1   0.330033               290           95.709571\n",
      "33      3.6      4   1.320132               294           97.029703\n",
      "34      3.8      1   0.330033               295           97.359736\n",
      "35      4.0      3   0.990099               298           98.349835\n",
      "36      4.2      2   0.660066               300           99.009901\n",
      "37      4.4      1   0.330033               301           99.339934\n",
      "38      5.6      1   0.330033               302           99.669967\n",
      "39      6.2      1   0.330033               303          100.000000\n",
      "slope\n",
      "   slope  count    percent  cumulative_count  cumulative_percent\n",
      "0      0     21   6.930693                21            6.930693\n",
      "1      1    140  46.204620               161           53.135314\n",
      "2      2    142  46.864686               303          100.000000\n",
      "ca\n",
      "   ca  count    percent  cumulative_count  cumulative_percent\n",
      "0   0    175  57.755776               175           57.755776\n",
      "1   1     65  21.452145               240           79.207921\n",
      "2   2     38  12.541254               278           91.749175\n",
      "3   3     20   6.600660               298           98.349835\n",
      "4   4      5   1.650165               303          100.000000\n",
      "thal\n",
      "   thal  count    percent  cumulative_count  cumulative_percent\n",
      "0     0      2   0.660066                 2            0.660066\n",
      "1     1     18   5.940594                20            6.600660\n",
      "2     2    166  54.785479               186           61.386139\n",
      "3     3    117  38.613861               303          100.000000\n",
      "target\n",
      "   target  count    percent  cumulative_count  cumulative_percent\n",
      "0       0    138  45.544554               138           45.544554\n",
      "1       1    165  54.455446               303          100.000000\n"
     ]
    }
   ],
   "source": [
    "for col in df.columns:\n",
    "    print(col)\n",
    "    print(df.stb.freq([col], sort_cols=True))"
   ]
  },
  {
   "cell_type": "code",
   "execution_count": 5,
   "metadata": {},
   "outputs": [],
   "source": [
    "profile = ProfileReport(df, title='Pandas Profiling Report', explorative=True)"
   ]
  },
  {
   "cell_type": "code",
   "execution_count": 6,
   "metadata": {},
   "outputs": [
    {
     "data": {
      "application/vnd.jupyter.widget-view+json": {
       "model_id": "d74b888bc7b440d189772d3df8733ffa",
       "version_major": 2,
       "version_minor": 0
      },
      "text/plain": [
       "HBox(children=(HTML(value='Summarize dataset'), FloatProgress(value=0.0, max=28.0), HTML(value='')))"
      ]
     },
     "metadata": {},
     "output_type": "display_data"
    },
    {
     "name": "stdout",
     "output_type": "stream",
     "text": [
      "\n"
     ]
    },
    {
     "data": {
      "application/vnd.jupyter.widget-view+json": {
       "model_id": "310446a3e05f40adab4dd275ad55f863",
       "version_major": 2,
       "version_minor": 0
      },
      "text/plain": [
       "HBox(children=(HTML(value='Generate report structure'), FloatProgress(value=0.0, max=1.0), HTML(value='')))"
      ]
     },
     "metadata": {},
     "output_type": "display_data"
    },
    {
     "name": "stdout",
     "output_type": "stream",
     "text": [
      "\n"
     ]
    },
    {
     "data": {
      "application/vnd.jupyter.widget-view+json": {
       "model_id": "acfa260a82dd4b7891dc9460c1c480cf",
       "version_major": 2,
       "version_minor": 0
      },
      "text/plain": [
       "HBox(children=(HTML(value='Render HTML'), FloatProgress(value=0.0, max=1.0), HTML(value='')))"
      ]
     },
     "metadata": {},
     "output_type": "display_data"
    },
    {
     "name": "stdout",
     "output_type": "stream",
     "text": [
      "\n"
     ]
    },
    {
     "data": {
      "application/vnd.jupyter.widget-view+json": {
       "model_id": "e85738b3937b4c468c56abfe386631d4",
       "version_major": 2,
       "version_minor": 0
      },
      "text/plain": [
       "HBox(children=(HTML(value='Export report to file'), FloatProgress(value=0.0, max=1.0), HTML(value='')))"
      ]
     },
     "metadata": {},
     "output_type": "display_data"
    },
    {
     "name": "stdout",
     "output_type": "stream",
     "text": [
      "\n"
     ]
    }
   ],
   "source": [
    "profile.to_file(\"heart.csv.profile.html\")"
   ]
  },
  {
   "cell_type": "code",
   "execution_count": 7,
   "metadata": {},
   "outputs": [
    {
     "data": {
      "text/html": [
       "2020-11-03 11:10 Run time: 14 seconds"
      ],
      "text/plain": [
       "<IPython.core.display.HTML object>"
      ]
     },
     "metadata": {},
     "output_type": "display_data"
    }
   ],
   "source": [
    "display(HTML(f\"{str(datetime.now())[:16]} Run time: {humanize.naturaldelta(time.monotonic() - start_time)}\"))"
   ]
  }
 ],
 "metadata": {
  "kernelspec": {
   "display_name": "Python 3",
   "language": "python",
   "name": "python3"
  },
  "language_info": {
   "codemirror_mode": {
    "name": "ipython",
    "version": 3
   },
   "file_extension": ".py",
   "mimetype": "text/x-python",
   "name": "python",
   "nbconvert_exporter": "python",
   "pygments_lexer": "ipython3",
   "version": "3.6.9"
  }
 },
 "nbformat": 4,
 "nbformat_minor": 2
}
